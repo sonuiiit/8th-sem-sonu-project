{
 "cells": [
  {
   "cell_type": "code",
   "execution_count": 1,
   "id": "c0b81a7f",
   "metadata": {},
   "outputs": [
    {
     "name": "stderr",
     "output_type": "stream",
     "text": [
      "/Users/sonuyadavkhairwal/anaconda3/lib/python3.10/site-packages/pandas/core/arrays/masked.py:60: UserWarning: Pandas requires version '1.3.6' or newer of 'bottleneck' (version '1.3.5' currently installed).\n",
      "  from pandas.core import (\n"
     ]
    }
   ],
   "source": [
    "import numpy as np\n",
    "import pandas as pd\n",
    "import matplotlib.pyplot as plt\n",
    "import seaborn as sns\n",
    "\n",
    "from sklearn.model_selection import train_test_split, GridSearchCV\n",
    "from sklearn.preprocessing import StandardScaler\n",
    "from sklearn.metrics import accuracy_score\n",
    "from sklearn.metrics import confusion_matrix \n",
    "\n",
    "from sklearn.tree import DecisionTreeClassifier\n",
    "from sklearn import svm\n",
    "from sklearn.linear_model import LogisticRegression\n",
    "from sklearn.naive_bayes import GaussianNB\n",
    "from sklearn.neighbors import KNeighborsClassifier\n",
    "from sklearn.ensemble import RandomForestClassifier\n",
    "\n",
    "from sklearn.metrics import roc_curve, auc, confusion_matrix, classification_report,accuracy_score\n",
    "from sklearn.model_selection import cross_val_score\n",
    "from sklearn.model_selection import GridSearchCV"
   ]
  },
  {
   "cell_type": "code",
   "execution_count": 2,
   "id": "29b2073a",
   "metadata": {},
   "outputs": [],
   "source": [
    "dataset=pd.read_csv(\"kidney_disease_Preprocessed.csv\")"
   ]
  },
  {
   "cell_type": "code",
   "execution_count": 3,
   "id": "43839cec",
   "metadata": {},
   "outputs": [],
   "source": [
    "X=dataset.drop([\"id\",\"classification\"],axis=1)\n",
    "Y=dataset[\"classification\"]"
   ]
  },
  {
   "cell_type": "code",
   "execution_count": 5,
   "id": "403deea4",
   "metadata": {},
   "outputs": [],
   "source": [
    "#scaling\n",
    "scalar=StandardScaler()\n",
    "X=scalar.fit_transform(X)"
   ]
  },
  {
   "cell_type": "code",
   "execution_count": 7,
   "id": "14be1a4d",
   "metadata": {},
   "outputs": [],
   "source": [
    "X_train , X_test , y_train , y_test   = train_test_split(X,Y,test_size = 0.2 , random_state=3)  "
   ]
  },
  {
   "cell_type": "code",
   "execution_count": 8,
   "id": "5d2d211b",
   "metadata": {},
   "outputs": [],
   "source": [
    "model_parameters={\n",
    "    'random_forest':{\n",
    "        'model':RandomForestClassifier(),\n",
    "        'params':{\n",
    "            'n_estimators':[1,5,10]\n",
    "        }\n",
    "    },\n",
    "    'svm':{\n",
    "        'model' :svm.SVC(gamma='auto'),\n",
    "        'params':{\n",
    "            'C':[1,10,20],\n",
    "            'kernel':['rbf','linear']\n",
    "        }\n",
    "    },\n",
    "    'decision_tree':{\n",
    "        'model': DecisionTreeClassifier(criterion='entropy'),\n",
    "        'params':{\n",
    "            'min_samples_split' : [4,5,6,7,8,9,10,11,12,15,20,30,40,50,70,90,120,150]\n",
    "        }\n",
    "    },\n",
    "    'random_forest':{\n",
    "        'model':RandomForestClassifier(),\n",
    "        'params':{\n",
    "            'n_estimators':[1,5,10]\n",
    "        }\n",
    "    },\n",
    "    'logistic_regression':{\n",
    "        'model': LogisticRegression(solver='liblinear', multi_class='auto'),\n",
    "        'params':{\n",
    "            'C':[1,5,10]\n",
    "        }\n",
    "    },\n",
    "    'knn':{\n",
    "        'model': KNeighborsClassifier( metric='minkowski',p=2 ),\n",
    "        'params':{\n",
    "            'n_neighbors' :list(range(1,31)),\n",
    "            'weights' : [\"uniform\", \"distance\"]\n",
    "        }\n",
    "    },\n",
    "    'Kernal_Navie_bayes':{\n",
    "        'model': GaussianNB(),\n",
    "        'params':{\n",
    "            'var_smoothing': np.logspace(0,-9, num=100)\n",
    "        }\n",
    "    }\n",
    "}"
   ]
  },
  {
   "cell_type": "code",
   "execution_count": 9,
   "id": "dfaa5849",
   "metadata": {},
   "outputs": [],
   "source": [
    "scores=[]\n",
    "\n",
    "for model,mp in model_parameters.items():\n",
    "    classifier = GridSearchCV(mp['model'], mp['params'] , cv=5 , return_train_score=False)\n",
    "    classifier.fit(X_train , y_train)\n",
    "    scores.append({\n",
    "        'model': model,\n",
    "        'best_score':classifier.best_score_,\n",
    "        'best_params':classifier.best_params_\n",
    "    })\n"
   ]
  },
  {
   "cell_type": "code",
   "execution_count": 10,
   "id": "8a99ec45",
   "metadata": {},
   "outputs": [
    {
     "data": {
      "text/html": [
       "<div>\n",
       "<style scoped>\n",
       "    .dataframe tbody tr th:only-of-type {\n",
       "        vertical-align: middle;\n",
       "    }\n",
       "\n",
       "    .dataframe tbody tr th {\n",
       "        vertical-align: top;\n",
       "    }\n",
       "\n",
       "    .dataframe thead th {\n",
       "        text-align: right;\n",
       "    }\n",
       "</style>\n",
       "<table border=\"1\" class=\"dataframe\">\n",
       "  <thead>\n",
       "    <tr style=\"text-align: right;\">\n",
       "      <th></th>\n",
       "      <th>model</th>\n",
       "      <th>best_score</th>\n",
       "      <th>best_params</th>\n",
       "    </tr>\n",
       "  </thead>\n",
       "  <tbody>\n",
       "    <tr>\n",
       "      <th>0</th>\n",
       "      <td>random_forest</td>\n",
       "      <td>1.00000</td>\n",
       "      <td>{'n_estimators': 5}</td>\n",
       "    </tr>\n",
       "    <tr>\n",
       "      <th>1</th>\n",
       "      <td>svm</td>\n",
       "      <td>0.99375</td>\n",
       "      <td>{'C': 1, 'kernel': 'rbf'}</td>\n",
       "    </tr>\n",
       "    <tr>\n",
       "      <th>2</th>\n",
       "      <td>decision_tree</td>\n",
       "      <td>1.00000</td>\n",
       "      <td>{'min_samples_split': 4}</td>\n",
       "    </tr>\n",
       "    <tr>\n",
       "      <th>3</th>\n",
       "      <td>logistic_regression</td>\n",
       "      <td>0.98750</td>\n",
       "      <td>{'C': 1}</td>\n",
       "    </tr>\n",
       "    <tr>\n",
       "      <th>4</th>\n",
       "      <td>knn</td>\n",
       "      <td>0.98125</td>\n",
       "      <td>{'n_neighbors': 2, 'weights': 'uniform'}</td>\n",
       "    </tr>\n",
       "    <tr>\n",
       "      <th>5</th>\n",
       "      <td>Kernal_Navie_bayes</td>\n",
       "      <td>0.96875</td>\n",
       "      <td>{'var_smoothing': 0.01873817422860384}</td>\n",
       "    </tr>\n",
       "  </tbody>\n",
       "</table>\n",
       "</div>"
      ],
      "text/plain": [
       "                 model  best_score                               best_params\n",
       "0        random_forest     1.00000                       {'n_estimators': 5}\n",
       "1                  svm     0.99375                 {'C': 1, 'kernel': 'rbf'}\n",
       "2        decision_tree     1.00000                  {'min_samples_split': 4}\n",
       "3  logistic_regression     0.98750                                  {'C': 1}\n",
       "4                  knn     0.98125  {'n_neighbors': 2, 'weights': 'uniform'}\n",
       "5   Kernal_Navie_bayes     0.96875    {'var_smoothing': 0.01873817422860384}"
      ]
     },
     "execution_count": 10,
     "metadata": {},
     "output_type": "execute_result"
    }
   ],
   "source": [
    "df = pd.DataFrame(scores, columns=['model','best_score','best_params'])\n",
    "df"
   ]
  },
  {
   "cell_type": "code",
   "execution_count": null,
   "id": "2d2150f7",
   "metadata": {},
   "outputs": [],
   "source": []
  }
 ],
 "metadata": {
  "kernelspec": {
   "display_name": "Python 3 (ipykernel)",
   "language": "python",
   "name": "python3"
  },
  "language_info": {
   "codemirror_mode": {
    "name": "ipython",
    "version": 3
   },
   "file_extension": ".py",
   "mimetype": "text/x-python",
   "name": "python",
   "nbconvert_exporter": "python",
   "pygments_lexer": "ipython3",
   "version": "3.10.9"
  }
 },
 "nbformat": 4,
 "nbformat_minor": 5
}
