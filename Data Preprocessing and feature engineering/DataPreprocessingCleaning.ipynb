{
 "cells": [
  {
   "cell_type": "code",
   "execution_count": 1,
   "id": "0b8f5815",
   "metadata": {},
   "outputs": [],
   "source": [
    "import pandas as pd\n",
    "import numpy as np\n",
    "import matplotlib.pyplot as plt\n",
    "import seaborn as sns"
   ]
  },
  {
   "cell_type": "code",
   "execution_count": 2,
   "id": "96aa2d73",
   "metadata": {},
   "outputs": [],
   "source": [
    "dataset=pd.read_csv(\"kidney_disease.csv\")"
   ]
  },
  {
   "cell_type": "code",
   "execution_count": 3,
   "id": "4cf366e7",
   "metadata": {},
   "outputs": [],
   "source": [
    "df=dataset.copy()"
   ]
  },
  {
   "cell_type": "code",
   "execution_count": 5,
   "id": "7dcf003a",
   "metadata": {},
   "outputs": [
    {
     "data": {
      "text/plain": [
       "(400, 26)"
      ]
     },
     "execution_count": 5,
     "metadata": {},
     "output_type": "execute_result"
    }
   ],
   "source": [
    "df.shape"
   ]
  },
  {
   "cell_type": "code",
   "execution_count": 6,
   "id": "7f6e35e1",
   "metadata": {},
   "outputs": [
    {
     "data": {
      "text/html": [
       "<div>\n",
       "<style scoped>\n",
       "    .dataframe tbody tr th:only-of-type {\n",
       "        vertical-align: middle;\n",
       "    }\n",
       "\n",
       "    .dataframe tbody tr th {\n",
       "        vertical-align: top;\n",
       "    }\n",
       "\n",
       "    .dataframe thead th {\n",
       "        text-align: right;\n",
       "    }\n",
       "</style>\n",
       "<table border=\"1\" class=\"dataframe\">\n",
       "  <thead>\n",
       "    <tr style=\"text-align: right;\">\n",
       "      <th></th>\n",
       "      <th>id</th>\n",
       "      <th>age</th>\n",
       "      <th>bp</th>\n",
       "      <th>sg</th>\n",
       "      <th>al</th>\n",
       "      <th>su</th>\n",
       "      <th>rbc</th>\n",
       "      <th>pc</th>\n",
       "      <th>pcc</th>\n",
       "      <th>ba</th>\n",
       "      <th>...</th>\n",
       "      <th>pcv</th>\n",
       "      <th>wc</th>\n",
       "      <th>rc</th>\n",
       "      <th>htn</th>\n",
       "      <th>dm</th>\n",
       "      <th>cad</th>\n",
       "      <th>appet</th>\n",
       "      <th>pe</th>\n",
       "      <th>ane</th>\n",
       "      <th>classification</th>\n",
       "    </tr>\n",
       "  </thead>\n",
       "  <tbody>\n",
       "    <tr>\n",
       "      <th>0</th>\n",
       "      <td>0</td>\n",
       "      <td>48.0</td>\n",
       "      <td>80.0</td>\n",
       "      <td>1.020</td>\n",
       "      <td>1.0</td>\n",
       "      <td>0.0</td>\n",
       "      <td>NaN</td>\n",
       "      <td>normal</td>\n",
       "      <td>notpresent</td>\n",
       "      <td>notpresent</td>\n",
       "      <td>...</td>\n",
       "      <td>44</td>\n",
       "      <td>7800</td>\n",
       "      <td>5.2</td>\n",
       "      <td>yes</td>\n",
       "      <td>yes</td>\n",
       "      <td>no</td>\n",
       "      <td>good</td>\n",
       "      <td>no</td>\n",
       "      <td>no</td>\n",
       "      <td>ckd</td>\n",
       "    </tr>\n",
       "    <tr>\n",
       "      <th>1</th>\n",
       "      <td>1</td>\n",
       "      <td>7.0</td>\n",
       "      <td>50.0</td>\n",
       "      <td>1.020</td>\n",
       "      <td>4.0</td>\n",
       "      <td>0.0</td>\n",
       "      <td>NaN</td>\n",
       "      <td>normal</td>\n",
       "      <td>notpresent</td>\n",
       "      <td>notpresent</td>\n",
       "      <td>...</td>\n",
       "      <td>38</td>\n",
       "      <td>6000</td>\n",
       "      <td>NaN</td>\n",
       "      <td>no</td>\n",
       "      <td>no</td>\n",
       "      <td>no</td>\n",
       "      <td>good</td>\n",
       "      <td>no</td>\n",
       "      <td>no</td>\n",
       "      <td>ckd</td>\n",
       "    </tr>\n",
       "    <tr>\n",
       "      <th>2</th>\n",
       "      <td>2</td>\n",
       "      <td>62.0</td>\n",
       "      <td>80.0</td>\n",
       "      <td>1.010</td>\n",
       "      <td>2.0</td>\n",
       "      <td>3.0</td>\n",
       "      <td>normal</td>\n",
       "      <td>normal</td>\n",
       "      <td>notpresent</td>\n",
       "      <td>notpresent</td>\n",
       "      <td>...</td>\n",
       "      <td>31</td>\n",
       "      <td>7500</td>\n",
       "      <td>NaN</td>\n",
       "      <td>no</td>\n",
       "      <td>yes</td>\n",
       "      <td>no</td>\n",
       "      <td>poor</td>\n",
       "      <td>no</td>\n",
       "      <td>yes</td>\n",
       "      <td>ckd</td>\n",
       "    </tr>\n",
       "    <tr>\n",
       "      <th>3</th>\n",
       "      <td>3</td>\n",
       "      <td>48.0</td>\n",
       "      <td>70.0</td>\n",
       "      <td>1.005</td>\n",
       "      <td>4.0</td>\n",
       "      <td>0.0</td>\n",
       "      <td>normal</td>\n",
       "      <td>abnormal</td>\n",
       "      <td>present</td>\n",
       "      <td>notpresent</td>\n",
       "      <td>...</td>\n",
       "      <td>32</td>\n",
       "      <td>6700</td>\n",
       "      <td>3.9</td>\n",
       "      <td>yes</td>\n",
       "      <td>no</td>\n",
       "      <td>no</td>\n",
       "      <td>poor</td>\n",
       "      <td>yes</td>\n",
       "      <td>yes</td>\n",
       "      <td>ckd</td>\n",
       "    </tr>\n",
       "    <tr>\n",
       "      <th>4</th>\n",
       "      <td>4</td>\n",
       "      <td>51.0</td>\n",
       "      <td>80.0</td>\n",
       "      <td>1.010</td>\n",
       "      <td>2.0</td>\n",
       "      <td>0.0</td>\n",
       "      <td>normal</td>\n",
       "      <td>normal</td>\n",
       "      <td>notpresent</td>\n",
       "      <td>notpresent</td>\n",
       "      <td>...</td>\n",
       "      <td>35</td>\n",
       "      <td>7300</td>\n",
       "      <td>4.6</td>\n",
       "      <td>no</td>\n",
       "      <td>no</td>\n",
       "      <td>no</td>\n",
       "      <td>good</td>\n",
       "      <td>no</td>\n",
       "      <td>no</td>\n",
       "      <td>ckd</td>\n",
       "    </tr>\n",
       "  </tbody>\n",
       "</table>\n",
       "<p>5 rows × 26 columns</p>\n",
       "</div>"
      ],
      "text/plain": [
       "   id   age    bp     sg   al   su     rbc        pc         pcc          ba  \\\n",
       "0   0  48.0  80.0  1.020  1.0  0.0     NaN    normal  notpresent  notpresent   \n",
       "1   1   7.0  50.0  1.020  4.0  0.0     NaN    normal  notpresent  notpresent   \n",
       "2   2  62.0  80.0  1.010  2.0  3.0  normal    normal  notpresent  notpresent   \n",
       "3   3  48.0  70.0  1.005  4.0  0.0  normal  abnormal     present  notpresent   \n",
       "4   4  51.0  80.0  1.010  2.0  0.0  normal    normal  notpresent  notpresent   \n",
       "\n",
       "   ...  pcv    wc   rc  htn   dm  cad appet   pe  ane classification  \n",
       "0  ...   44  7800  5.2  yes  yes   no  good   no   no            ckd  \n",
       "1  ...   38  6000  NaN   no   no   no  good   no   no            ckd  \n",
       "2  ...   31  7500  NaN   no  yes   no  poor   no  yes            ckd  \n",
       "3  ...   32  6700  3.9  yes   no   no  poor  yes  yes            ckd  \n",
       "4  ...   35  7300  4.6   no   no   no  good   no   no            ckd  \n",
       "\n",
       "[5 rows x 26 columns]"
      ]
     },
     "execution_count": 6,
     "metadata": {},
     "output_type": "execute_result"
    }
   ],
   "source": [
    "df.head()"
   ]
  },
  {
   "cell_type": "code",
   "execution_count": 7,
   "id": "59de936f",
   "metadata": {},
   "outputs": [
    {
     "data": {
      "text/html": [
       "<div>\n",
       "<style scoped>\n",
       "    .dataframe tbody tr th:only-of-type {\n",
       "        vertical-align: middle;\n",
       "    }\n",
       "\n",
       "    .dataframe tbody tr th {\n",
       "        vertical-align: top;\n",
       "    }\n",
       "\n",
       "    .dataframe thead th {\n",
       "        text-align: right;\n",
       "    }\n",
       "</style>\n",
       "<table border=\"1\" class=\"dataframe\">\n",
       "  <thead>\n",
       "    <tr style=\"text-align: right;\">\n",
       "      <th></th>\n",
       "      <th>id</th>\n",
       "      <th>age</th>\n",
       "      <th>bp</th>\n",
       "      <th>sg</th>\n",
       "      <th>al</th>\n",
       "      <th>su</th>\n",
       "      <th>bgr</th>\n",
       "      <th>bu</th>\n",
       "      <th>sc</th>\n",
       "      <th>sod</th>\n",
       "      <th>pot</th>\n",
       "      <th>hemo</th>\n",
       "    </tr>\n",
       "  </thead>\n",
       "  <tbody>\n",
       "    <tr>\n",
       "      <th>count</th>\n",
       "      <td>400.000000</td>\n",
       "      <td>391.000000</td>\n",
       "      <td>388.000000</td>\n",
       "      <td>353.000000</td>\n",
       "      <td>354.000000</td>\n",
       "      <td>351.000000</td>\n",
       "      <td>356.000000</td>\n",
       "      <td>381.000000</td>\n",
       "      <td>383.000000</td>\n",
       "      <td>313.000000</td>\n",
       "      <td>312.000000</td>\n",
       "      <td>348.000000</td>\n",
       "    </tr>\n",
       "    <tr>\n",
       "      <th>mean</th>\n",
       "      <td>199.500000</td>\n",
       "      <td>51.483376</td>\n",
       "      <td>76.469072</td>\n",
       "      <td>1.017408</td>\n",
       "      <td>1.016949</td>\n",
       "      <td>0.450142</td>\n",
       "      <td>148.036517</td>\n",
       "      <td>57.425722</td>\n",
       "      <td>3.072454</td>\n",
       "      <td>137.528754</td>\n",
       "      <td>4.627244</td>\n",
       "      <td>12.526437</td>\n",
       "    </tr>\n",
       "    <tr>\n",
       "      <th>std</th>\n",
       "      <td>115.614301</td>\n",
       "      <td>17.169714</td>\n",
       "      <td>13.683637</td>\n",
       "      <td>0.005717</td>\n",
       "      <td>1.352679</td>\n",
       "      <td>1.099191</td>\n",
       "      <td>79.281714</td>\n",
       "      <td>50.503006</td>\n",
       "      <td>5.741126</td>\n",
       "      <td>10.408752</td>\n",
       "      <td>3.193904</td>\n",
       "      <td>2.912587</td>\n",
       "    </tr>\n",
       "    <tr>\n",
       "      <th>min</th>\n",
       "      <td>0.000000</td>\n",
       "      <td>2.000000</td>\n",
       "      <td>50.000000</td>\n",
       "      <td>1.005000</td>\n",
       "      <td>0.000000</td>\n",
       "      <td>0.000000</td>\n",
       "      <td>22.000000</td>\n",
       "      <td>1.500000</td>\n",
       "      <td>0.400000</td>\n",
       "      <td>4.500000</td>\n",
       "      <td>2.500000</td>\n",
       "      <td>3.100000</td>\n",
       "    </tr>\n",
       "    <tr>\n",
       "      <th>25%</th>\n",
       "      <td>99.750000</td>\n",
       "      <td>42.000000</td>\n",
       "      <td>70.000000</td>\n",
       "      <td>1.010000</td>\n",
       "      <td>0.000000</td>\n",
       "      <td>0.000000</td>\n",
       "      <td>99.000000</td>\n",
       "      <td>27.000000</td>\n",
       "      <td>0.900000</td>\n",
       "      <td>135.000000</td>\n",
       "      <td>3.800000</td>\n",
       "      <td>10.300000</td>\n",
       "    </tr>\n",
       "    <tr>\n",
       "      <th>50%</th>\n",
       "      <td>199.500000</td>\n",
       "      <td>55.000000</td>\n",
       "      <td>80.000000</td>\n",
       "      <td>1.020000</td>\n",
       "      <td>0.000000</td>\n",
       "      <td>0.000000</td>\n",
       "      <td>121.000000</td>\n",
       "      <td>42.000000</td>\n",
       "      <td>1.300000</td>\n",
       "      <td>138.000000</td>\n",
       "      <td>4.400000</td>\n",
       "      <td>12.650000</td>\n",
       "    </tr>\n",
       "    <tr>\n",
       "      <th>75%</th>\n",
       "      <td>299.250000</td>\n",
       "      <td>64.500000</td>\n",
       "      <td>80.000000</td>\n",
       "      <td>1.020000</td>\n",
       "      <td>2.000000</td>\n",
       "      <td>0.000000</td>\n",
       "      <td>163.000000</td>\n",
       "      <td>66.000000</td>\n",
       "      <td>2.800000</td>\n",
       "      <td>142.000000</td>\n",
       "      <td>4.900000</td>\n",
       "      <td>15.000000</td>\n",
       "    </tr>\n",
       "    <tr>\n",
       "      <th>max</th>\n",
       "      <td>399.000000</td>\n",
       "      <td>90.000000</td>\n",
       "      <td>180.000000</td>\n",
       "      <td>1.025000</td>\n",
       "      <td>5.000000</td>\n",
       "      <td>5.000000</td>\n",
       "      <td>490.000000</td>\n",
       "      <td>391.000000</td>\n",
       "      <td>76.000000</td>\n",
       "      <td>163.000000</td>\n",
       "      <td>47.000000</td>\n",
       "      <td>17.800000</td>\n",
       "    </tr>\n",
       "  </tbody>\n",
       "</table>\n",
       "</div>"
      ],
      "text/plain": [
       "               id         age          bp          sg          al          su  \\\n",
       "count  400.000000  391.000000  388.000000  353.000000  354.000000  351.000000   \n",
       "mean   199.500000   51.483376   76.469072    1.017408    1.016949    0.450142   \n",
       "std    115.614301   17.169714   13.683637    0.005717    1.352679    1.099191   \n",
       "min      0.000000    2.000000   50.000000    1.005000    0.000000    0.000000   \n",
       "25%     99.750000   42.000000   70.000000    1.010000    0.000000    0.000000   \n",
       "50%    199.500000   55.000000   80.000000    1.020000    0.000000    0.000000   \n",
       "75%    299.250000   64.500000   80.000000    1.020000    2.000000    0.000000   \n",
       "max    399.000000   90.000000  180.000000    1.025000    5.000000    5.000000   \n",
       "\n",
       "              bgr          bu          sc         sod         pot        hemo  \n",
       "count  356.000000  381.000000  383.000000  313.000000  312.000000  348.000000  \n",
       "mean   148.036517   57.425722    3.072454  137.528754    4.627244   12.526437  \n",
       "std     79.281714   50.503006    5.741126   10.408752    3.193904    2.912587  \n",
       "min     22.000000    1.500000    0.400000    4.500000    2.500000    3.100000  \n",
       "25%     99.000000   27.000000    0.900000  135.000000    3.800000   10.300000  \n",
       "50%    121.000000   42.000000    1.300000  138.000000    4.400000   12.650000  \n",
       "75%    163.000000   66.000000    2.800000  142.000000    4.900000   15.000000  \n",
       "max    490.000000  391.000000   76.000000  163.000000   47.000000   17.800000  "
      ]
     },
     "execution_count": 7,
     "metadata": {},
     "output_type": "execute_result"
    }
   ],
   "source": [
    "df.describe()"
   ]
  },
  {
   "cell_type": "code",
   "execution_count": 8,
   "id": "5dd56fd5",
   "metadata": {},
   "outputs": [
    {
     "name": "stdout",
     "output_type": "stream",
     "text": [
      "<class 'pandas.core.frame.DataFrame'>\n",
      "RangeIndex: 400 entries, 0 to 399\n",
      "Data columns (total 26 columns):\n",
      " #   Column          Non-Null Count  Dtype  \n",
      "---  ------          --------------  -----  \n",
      " 0   id              400 non-null    int64  \n",
      " 1   age             391 non-null    float64\n",
      " 2   bp              388 non-null    float64\n",
      " 3   sg              353 non-null    float64\n",
      " 4   al              354 non-null    float64\n",
      " 5   su              351 non-null    float64\n",
      " 6   rbc             248 non-null    object \n",
      " 7   pc              335 non-null    object \n",
      " 8   pcc             396 non-null    object \n",
      " 9   ba              396 non-null    object \n",
      " 10  bgr             356 non-null    float64\n",
      " 11  bu              381 non-null    float64\n",
      " 12  sc              383 non-null    float64\n",
      " 13  sod             313 non-null    float64\n",
      " 14  pot             312 non-null    float64\n",
      " 15  hemo            348 non-null    float64\n",
      " 16  pcv             330 non-null    object \n",
      " 17  wc              295 non-null    object \n",
      " 18  rc              270 non-null    object \n",
      " 19  htn             398 non-null    object \n",
      " 20  dm              398 non-null    object \n",
      " 21  cad             398 non-null    object \n",
      " 22  appet           399 non-null    object \n",
      " 23  pe              399 non-null    object \n",
      " 24  ane             399 non-null    object \n",
      " 25  classification  400 non-null    object \n",
      "dtypes: float64(11), int64(1), object(14)\n",
      "memory usage: 81.4+ KB\n"
     ]
    }
   ],
   "source": [
    "df.info()\n"
   ]
  },
  {
   "cell_type": "code",
   "execution_count": 9,
   "id": "ea2216fa",
   "metadata": {},
   "outputs": [
    {
     "data": {
      "text/plain": [
       "0"
      ]
     },
     "execution_count": 9,
     "metadata": {},
     "output_type": "execute_result"
    }
   ],
   "source": [
    "df['id'].duplicated().sum()\n",
    "#checking duplicate rows"
   ]
  },
  {
   "cell_type": "code",
   "execution_count": 14,
   "id": "781175c2",
   "metadata": {},
   "outputs": [
    {
     "data": {
      "text/html": [
       "<div>\n",
       "<style scoped>\n",
       "    .dataframe tbody tr th:only-of-type {\n",
       "        vertical-align: middle;\n",
       "    }\n",
       "\n",
       "    .dataframe tbody tr th {\n",
       "        vertical-align: top;\n",
       "    }\n",
       "\n",
       "    .dataframe thead th {\n",
       "        text-align: right;\n",
       "    }\n",
       "</style>\n",
       "<table border=\"1\" class=\"dataframe\">\n",
       "  <thead>\n",
       "    <tr style=\"text-align: right;\">\n",
       "      <th></th>\n",
       "      <th>id</th>\n",
       "      <th>age</th>\n",
       "      <th>bp</th>\n",
       "      <th>sg</th>\n",
       "      <th>al</th>\n",
       "      <th>su</th>\n",
       "      <th>rbc</th>\n",
       "      <th>pc</th>\n",
       "      <th>pcc</th>\n",
       "      <th>ba</th>\n",
       "      <th>...</th>\n",
       "      <th>pcv</th>\n",
       "      <th>wc</th>\n",
       "      <th>rc</th>\n",
       "      <th>htn</th>\n",
       "      <th>dm</th>\n",
       "      <th>cad</th>\n",
       "      <th>appet</th>\n",
       "      <th>pe</th>\n",
       "      <th>ane</th>\n",
       "      <th>classification</th>\n",
       "    </tr>\n",
       "  </thead>\n",
       "  <tbody>\n",
       "    <tr>\n",
       "      <th>0</th>\n",
       "      <td>0</td>\n",
       "      <td>48.0</td>\n",
       "      <td>80.0</td>\n",
       "      <td>1.020</td>\n",
       "      <td>1.0</td>\n",
       "      <td>0.0</td>\n",
       "      <td>NaN</td>\n",
       "      <td>normal</td>\n",
       "      <td>notpresent</td>\n",
       "      <td>notpresent</td>\n",
       "      <td>...</td>\n",
       "      <td>44</td>\n",
       "      <td>7800</td>\n",
       "      <td>5.2</td>\n",
       "      <td>yes</td>\n",
       "      <td>yes</td>\n",
       "      <td>no</td>\n",
       "      <td>good</td>\n",
       "      <td>no</td>\n",
       "      <td>no</td>\n",
       "      <td>ckd</td>\n",
       "    </tr>\n",
       "    <tr>\n",
       "      <th>1</th>\n",
       "      <td>1</td>\n",
       "      <td>7.0</td>\n",
       "      <td>50.0</td>\n",
       "      <td>1.020</td>\n",
       "      <td>4.0</td>\n",
       "      <td>0.0</td>\n",
       "      <td>NaN</td>\n",
       "      <td>normal</td>\n",
       "      <td>notpresent</td>\n",
       "      <td>notpresent</td>\n",
       "      <td>...</td>\n",
       "      <td>38</td>\n",
       "      <td>6000</td>\n",
       "      <td>NaN</td>\n",
       "      <td>no</td>\n",
       "      <td>no</td>\n",
       "      <td>no</td>\n",
       "      <td>good</td>\n",
       "      <td>no</td>\n",
       "      <td>no</td>\n",
       "      <td>ckd</td>\n",
       "    </tr>\n",
       "    <tr>\n",
       "      <th>2</th>\n",
       "      <td>2</td>\n",
       "      <td>62.0</td>\n",
       "      <td>80.0</td>\n",
       "      <td>1.010</td>\n",
       "      <td>2.0</td>\n",
       "      <td>3.0</td>\n",
       "      <td>normal</td>\n",
       "      <td>normal</td>\n",
       "      <td>notpresent</td>\n",
       "      <td>notpresent</td>\n",
       "      <td>...</td>\n",
       "      <td>31</td>\n",
       "      <td>7500</td>\n",
       "      <td>NaN</td>\n",
       "      <td>no</td>\n",
       "      <td>yes</td>\n",
       "      <td>no</td>\n",
       "      <td>poor</td>\n",
       "      <td>no</td>\n",
       "      <td>yes</td>\n",
       "      <td>ckd</td>\n",
       "    </tr>\n",
       "    <tr>\n",
       "      <th>3</th>\n",
       "      <td>3</td>\n",
       "      <td>48.0</td>\n",
       "      <td>70.0</td>\n",
       "      <td>1.005</td>\n",
       "      <td>4.0</td>\n",
       "      <td>0.0</td>\n",
       "      <td>normal</td>\n",
       "      <td>abnormal</td>\n",
       "      <td>present</td>\n",
       "      <td>notpresent</td>\n",
       "      <td>...</td>\n",
       "      <td>32</td>\n",
       "      <td>6700</td>\n",
       "      <td>3.9</td>\n",
       "      <td>yes</td>\n",
       "      <td>no</td>\n",
       "      <td>no</td>\n",
       "      <td>poor</td>\n",
       "      <td>yes</td>\n",
       "      <td>yes</td>\n",
       "      <td>ckd</td>\n",
       "    </tr>\n",
       "    <tr>\n",
       "      <th>4</th>\n",
       "      <td>4</td>\n",
       "      <td>51.0</td>\n",
       "      <td>80.0</td>\n",
       "      <td>1.010</td>\n",
       "      <td>2.0</td>\n",
       "      <td>0.0</td>\n",
       "      <td>normal</td>\n",
       "      <td>normal</td>\n",
       "      <td>notpresent</td>\n",
       "      <td>notpresent</td>\n",
       "      <td>...</td>\n",
       "      <td>35</td>\n",
       "      <td>7300</td>\n",
       "      <td>4.6</td>\n",
       "      <td>no</td>\n",
       "      <td>no</td>\n",
       "      <td>no</td>\n",
       "      <td>good</td>\n",
       "      <td>no</td>\n",
       "      <td>no</td>\n",
       "      <td>ckd</td>\n",
       "    </tr>\n",
       "  </tbody>\n",
       "</table>\n",
       "<p>5 rows × 26 columns</p>\n",
       "</div>"
      ],
      "text/plain": [
       "   id   age    bp     sg   al   su     rbc        pc         pcc          ba  \\\n",
       "0   0  48.0  80.0  1.020  1.0  0.0     NaN    normal  notpresent  notpresent   \n",
       "1   1   7.0  50.0  1.020  4.0  0.0     NaN    normal  notpresent  notpresent   \n",
       "2   2  62.0  80.0  1.010  2.0  3.0  normal    normal  notpresent  notpresent   \n",
       "3   3  48.0  70.0  1.005  4.0  0.0  normal  abnormal     present  notpresent   \n",
       "4   4  51.0  80.0  1.010  2.0  0.0  normal    normal  notpresent  notpresent   \n",
       "\n",
       "   ...  pcv    wc   rc  htn   dm  cad appet   pe  ane classification  \n",
       "0  ...   44  7800  5.2  yes  yes   no  good   no   no            ckd  \n",
       "1  ...   38  6000  NaN   no   no   no  good   no   no            ckd  \n",
       "2  ...   31  7500  NaN   no  yes   no  poor   no  yes            ckd  \n",
       "3  ...   32  6700  3.9  yes   no   no  poor  yes  yes            ckd  \n",
       "4  ...   35  7300  4.6   no   no   no  good   no   no            ckd  \n",
       "\n",
       "[5 rows x 26 columns]"
      ]
     },
     "execution_count": 14,
     "metadata": {},
     "output_type": "execute_result"
    }
   ],
   "source": [
    "df.head()"
   ]
  },
  {
   "cell_type": "code",
   "execution_count": 12,
   "id": "4d447b7f",
   "metadata": {},
   "outputs": [
    {
     "data": {
      "text/plain": [
       "0"
      ]
     },
     "execution_count": 12,
     "metadata": {},
     "output_type": "execute_result"
    }
   ],
   "source": [
    "df.duplicated().sum()\n",
    "#checking the duplicates without id"
   ]
  },
  {
   "cell_type": "code",
   "execution_count": 13,
   "id": "111c64f2",
   "metadata": {},
   "outputs": [
    {
     "data": {
      "text/plain": [
       "id                  0\n",
       "age                 9\n",
       "bp                 12\n",
       "sg                 47\n",
       "al                 46\n",
       "su                 49\n",
       "rbc               152\n",
       "pc                 65\n",
       "pcc                 4\n",
       "ba                  4\n",
       "bgr                44\n",
       "bu                 19\n",
       "sc                 17\n",
       "sod                87\n",
       "pot                88\n",
       "hemo               52\n",
       "pcv                70\n",
       "wc                105\n",
       "rc                130\n",
       "htn                 2\n",
       "dm                  2\n",
       "cad                 2\n",
       "appet               1\n",
       "pe                  1\n",
       "ane                 1\n",
       "classification      0\n",
       "dtype: int64"
      ]
     },
     "execution_count": 13,
     "metadata": {},
     "output_type": "execute_result"
    }
   ],
   "source": [
    "df.isnull().sum()\n",
    "#checking the no of "
   ]
  },
  {
   "cell_type": "code",
   "execution_count": 15,
   "id": "bf1f53b2",
   "metadata": {},
   "outputs": [],
   "source": [
    "#data type of column pcv,wc and rc should be numeric, \n",
    "#but we have these columns as 'object'"
   ]
  },
  {
   "cell_type": "markdown",
   "id": "bebc28e1",
   "metadata": {},
   "source": [
    "# filling the missing values\n"
   ]
  },
  {
   "cell_type": "code",
   "execution_count": 16,
   "id": "64410c2a",
   "metadata": {},
   "outputs": [
    {
     "data": {
      "text/plain": [
       "0"
      ]
     },
     "execution_count": 16,
     "metadata": {},
     "output_type": "execute_result"
    }
   ],
   "source": [
    "# fill null values by mean\n",
    "#age\n",
    "df['age'].fillna(df['age'].mean(), inplace=True)\n",
    "df['age'].isnull().sum()"
   ]
  },
  {
   "cell_type": "code",
   "execution_count": 17,
   "id": "725f2ac2",
   "metadata": {},
   "outputs": [
    {
     "data": {
      "text/plain": [
       "0"
      ]
     },
     "execution_count": 17,
     "metadata": {},
     "output_type": "execute_result"
    }
   ],
   "source": [
    "#filling bp by median\n",
    "#bcz while doing eda we saw that 80 bp is coming many times\n",
    "df['bp'].fillna(df['bp'].median(), inplace=True)\n",
    "df['bp'].isnull().sum()"
   ]
  },
  {
   "cell_type": "code",
   "execution_count": 18,
   "id": "3991ffc4",
   "metadata": {},
   "outputs": [
    {
     "data": {
      "text/plain": [
       "0"
      ]
     },
     "execution_count": 18,
     "metadata": {},
     "output_type": "execute_result"
    }
   ],
   "source": [
    "# we fill missing values by mean\n",
    "df['sg'].fillna(df['sg'].mean(), inplace=True)\n",
    "df['sg'].isnull().sum()"
   ]
  },
  {
   "cell_type": "code",
   "execution_count": 19,
   "id": "9f377e46",
   "metadata": {},
   "outputs": [
    {
     "data": {
      "text/plain": [
       "46"
      ]
     },
     "execution_count": 19,
     "metadata": {},
     "output_type": "execute_result"
    }
   ],
   "source": [
    "df['al'].isnull().sum()"
   ]
  },
  {
   "cell_type": "code",
   "execution_count": 20,
   "id": "58846ba9",
   "metadata": {},
   "outputs": [
    {
     "name": "stdout",
     "output_type": "stream",
     "text": [
      "mean of al :  1.0169491525423728\n",
      "median of al :  0.0\n"
     ]
    }
   ],
   "source": [
    "print('mean of al : ',df['al'].mean())\n",
    "print('median of al : ',df['al'].median())"
   ]
  },
  {
   "cell_type": "code",
   "execution_count": 21,
   "id": "b9a84a6b",
   "metadata": {},
   "outputs": [
    {
     "data": {
      "text/plain": [
       "0.0    199\n",
       "1.0     44\n",
       "2.0     43\n",
       "3.0     43\n",
       "4.0     24\n",
       "5.0      1\n",
       "Name: al, dtype: int64"
      ]
     },
     "execution_count": 21,
     "metadata": {},
     "output_type": "execute_result"
    }
   ],
   "source": [
    "df['al'].value_counts()"
   ]
  },
  {
   "cell_type": "code",
   "execution_count": 22,
   "id": "4595cf6a",
   "metadata": {},
   "outputs": [
    {
     "data": {
      "text/plain": [
       "0"
      ]
     },
     "execution_count": 22,
     "metadata": {},
     "output_type": "execute_result"
    }
   ],
   "source": [
    "# fill null values by median\n",
    "df['al'].fillna(df['al'].median(), inplace=True)\n",
    "df['al'].isnull().sum()"
   ]
  },
  {
   "cell_type": "code",
   "execution_count": 23,
   "id": "9c1b3554",
   "metadata": {},
   "outputs": [
    {
     "data": {
      "text/plain": [
       "0.0    290\n",
       "2.0     18\n",
       "3.0     14\n",
       "4.0     13\n",
       "1.0     13\n",
       "5.0      3\n",
       "Name: su, dtype: int64"
      ]
     },
     "execution_count": 23,
     "metadata": {},
     "output_type": "execute_result"
    }
   ],
   "source": [
    "#su\n",
    "df['su'].value_counts()\n"
   ]
  },
  {
   "cell_type": "code",
   "execution_count": 24,
   "id": "3019e583",
   "metadata": {},
   "outputs": [
    {
     "data": {
      "text/plain": [
       "0"
      ]
     },
     "execution_count": 24,
     "metadata": {},
     "output_type": "execute_result"
    }
   ],
   "source": [
    "# filling missing values in 'su' by median\n",
    "df['su'].fillna(df['su'].median(), inplace=True)\n",
    "df['su'].isnull().sum()"
   ]
  },
  {
   "cell_type": "code",
   "execution_count": 25,
   "id": "5984325d",
   "metadata": {},
   "outputs": [
    {
     "data": {
      "text/plain": [
       "normal      201\n",
       "abnormal     47\n",
       "Name: rbc, dtype: int64"
      ]
     },
     "execution_count": 25,
     "metadata": {},
     "output_type": "execute_result"
    }
   ],
   "source": [
    "#rbc\n",
    "df['rbc'].value_counts()"
   ]
  },
  {
   "cell_type": "code",
   "execution_count": 26,
   "id": "481a0625",
   "metadata": {},
   "outputs": [
    {
     "data": {
      "text/plain": [
       "'normal'"
      ]
     },
     "execution_count": 26,
     "metadata": {},
     "output_type": "execute_result"
    }
   ],
   "source": [
    "df['rbc'].mode()[0]\n"
   ]
  },
  {
   "cell_type": "code",
   "execution_count": 27,
   "id": "f58ba14c",
   "metadata": {},
   "outputs": [
    {
     "data": {
      "text/plain": [
       "0"
      ]
     },
     "execution_count": 27,
     "metadata": {},
     "output_type": "execute_result"
    }
   ],
   "source": [
    "df['rbc'].fillna(df['rbc'].mode()[0], inplace=True)\n",
    "df['rbc'].isnull().sum()"
   ]
  },
  {
   "cell_type": "code",
   "execution_count": 28,
   "id": "64d2891f",
   "metadata": {},
   "outputs": [
    {
     "data": {
      "text/plain": [
       "normal      259\n",
       "abnormal     76\n",
       "Name: pc, dtype: int64"
      ]
     },
     "execution_count": 28,
     "metadata": {},
     "output_type": "execute_result"
    }
   ],
   "source": [
    "#pc\n",
    "df['pc'].value_counts()\n"
   ]
  },
  {
   "cell_type": "code",
   "execution_count": 29,
   "id": "c5b84d26",
   "metadata": {},
   "outputs": [
    {
     "data": {
      "text/plain": [
       "0"
      ]
     },
     "execution_count": 29,
     "metadata": {},
     "output_type": "execute_result"
    }
   ],
   "source": [
    "# null values replaced by mode \n",
    "df['pc'].fillna(df['pc'].mode()[0] , inplace=True)\n",
    "df['pc'].isnull().sum()"
   ]
  },
  {
   "cell_type": "markdown",
   "id": "ecedcaac",
   "metadata": {},
   "source": [
    "pcc"
   ]
  },
  {
   "cell_type": "code",
   "execution_count": 30,
   "id": "016c438a",
   "metadata": {},
   "outputs": [
    {
     "data": {
      "text/plain": [
       "notpresent    354\n",
       "present        42\n",
       "Name: pcc, dtype: int64"
      ]
     },
     "execution_count": 30,
     "metadata": {},
     "output_type": "execute_result"
    }
   ],
   "source": [
    "df['pcc'].value_counts()"
   ]
  },
  {
   "cell_type": "code",
   "execution_count": 31,
   "id": "bba9cbcd",
   "metadata": {},
   "outputs": [
    {
     "data": {
      "text/plain": [
       "0"
      ]
     },
     "execution_count": 31,
     "metadata": {},
     "output_type": "execute_result"
    }
   ],
   "source": [
    "df['pcc'].fillna(df['pcc'].mode()[0] ,inplace = True)\n",
    "df['pcc'].isnull().sum()"
   ]
  },
  {
   "cell_type": "markdown",
   "id": "8ae66844",
   "metadata": {},
   "source": [
    "ba"
   ]
  },
  {
   "cell_type": "code",
   "execution_count": 32,
   "id": "33dffc22",
   "metadata": {},
   "outputs": [
    {
     "data": {
      "text/plain": [
       "notpresent    374\n",
       "present        22\n",
       "Name: ba, dtype: int64"
      ]
     },
     "execution_count": 32,
     "metadata": {},
     "output_type": "execute_result"
    }
   ],
   "source": [
    "df['ba'].value_counts()"
   ]
  },
  {
   "cell_type": "code",
   "execution_count": 33,
   "id": "d001f2d0",
   "metadata": {},
   "outputs": [
    {
     "data": {
      "text/plain": [
       "0"
      ]
     },
     "execution_count": 33,
     "metadata": {},
     "output_type": "execute_result"
    }
   ],
   "source": [
    "df['ba'].fillna(df['ba'].mode()[0],inplace = True)\n",
    "df['ba'].isnull().sum()"
   ]
  },
  {
   "cell_type": "markdown",
   "id": "8442be07",
   "metadata": {},
   "source": [
    "bgr"
   ]
  },
  {
   "cell_type": "code",
   "execution_count": 34,
   "id": "4249da76",
   "metadata": {},
   "outputs": [
    {
     "data": {
      "text/plain": [
       "0"
      ]
     },
     "execution_count": 34,
     "metadata": {},
     "output_type": "execute_result"
    }
   ],
   "source": [
    "df['bgr'].fillna(df['bgr'].median(), inplace=True)\n",
    "df['bgr'].isnull().sum()"
   ]
  },
  {
   "cell_type": "markdown",
   "id": "aaf63ca4",
   "metadata": {},
   "source": [
    "bu"
   ]
  },
  {
   "cell_type": "code",
   "execution_count": 35,
   "id": "c04a6742",
   "metadata": {},
   "outputs": [
    {
     "data": {
      "text/plain": [
       "0"
      ]
     },
     "execution_count": 35,
     "metadata": {},
     "output_type": "execute_result"
    }
   ],
   "source": [
    "df['bu'].fillna(df['bu'].mean(), inplace=True)\n",
    "df['bu'].isnull().sum()\n"
   ]
  },
  {
   "cell_type": "markdown",
   "id": "67630c34",
   "metadata": {},
   "source": [
    "sc ,sod,pot,hemo"
   ]
  },
  {
   "cell_type": "code",
   "execution_count": 36,
   "id": "e8f0ec16",
   "metadata": {},
   "outputs": [
    {
     "data": {
      "text/plain": [
       "0"
      ]
     },
     "execution_count": 36,
     "metadata": {},
     "output_type": "execute_result"
    }
   ],
   "source": [
    "df['sc'].fillna(df['sc'].mean(),inplace=True)\n",
    "df['sc'].isnull().sum()"
   ]
  },
  {
   "cell_type": "code",
   "execution_count": 37,
   "id": "14670ed6",
   "metadata": {},
   "outputs": [
    {
     "data": {
      "text/plain": [
       "0"
      ]
     },
     "execution_count": 37,
     "metadata": {},
     "output_type": "execute_result"
    }
   ],
   "source": [
    "df['sod'].fillna(df['sod'].mean(), inplace=True)\n",
    "df['sod'].isnull().sum()"
   ]
  },
  {
   "cell_type": "code",
   "execution_count": 39,
   "id": "66e9afa5",
   "metadata": {},
   "outputs": [
    {
     "data": {
      "text/plain": [
       "0"
      ]
     },
     "execution_count": 39,
     "metadata": {},
     "output_type": "execute_result"
    }
   ],
   "source": [
    "df['pot'].fillna(df['pot'].mean(), inplace=True)\n",
    "df['pot'].isnull().sum()"
   ]
  },
  {
   "cell_type": "code",
   "execution_count": 40,
   "id": "5c9a2355",
   "metadata": {},
   "outputs": [
    {
     "data": {
      "text/plain": [
       "0"
      ]
     },
     "execution_count": 40,
     "metadata": {},
     "output_type": "execute_result"
    }
   ],
   "source": [
    "df['hemo'].fillna(df['hemo'].mean(), inplace=True)\n",
    "df['hemo'].isnull().sum()"
   ]
  },
  {
   "cell_type": "markdown",
   "id": "fe22d144",
   "metadata": {},
   "source": [
    "# Before imputation we have to change the datatype of some data\n"
   ]
  },
  {
   "cell_type": "markdown",
   "id": "9fef0488",
   "metadata": {},
   "source": [
    "For \"pcv\""
   ]
  },
  {
   "cell_type": "code",
   "execution_count": 41,
   "id": "f7da640f",
   "metadata": {},
   "outputs": [
    {
     "data": {
      "text/plain": [
       "dtype('O')"
      ]
     },
     "execution_count": 41,
     "metadata": {},
     "output_type": "execute_result"
    }
   ],
   "source": [
    "df['pcv'].dtype"
   ]
  },
  {
   "cell_type": "code",
   "execution_count": 42,
   "id": "197e43be",
   "metadata": {},
   "outputs": [
    {
     "data": {
      "text/plain": [
       "dtype('float64')"
      ]
     },
     "execution_count": 42,
     "metadata": {},
     "output_type": "execute_result"
    }
   ],
   "source": [
    "df['pcv'] = pd.to_numeric(df['pcv'], errors='coerce')\n",
    "df['pcv'].dtype"
   ]
  },
  {
   "cell_type": "code",
   "execution_count": 43,
   "id": "003c3108",
   "metadata": {},
   "outputs": [
    {
     "data": {
      "text/plain": [
       "count    329.000000\n",
       "mean      38.884498\n",
       "std        8.990105\n",
       "min        9.000000\n",
       "25%       32.000000\n",
       "50%       40.000000\n",
       "75%       45.000000\n",
       "max       54.000000\n",
       "Name: pcv, dtype: float64"
      ]
     },
     "execution_count": 43,
     "metadata": {},
     "output_type": "execute_result"
    }
   ],
   "source": [
    "df['pcv'].describe()\n"
   ]
  },
  {
   "cell_type": "code",
   "execution_count": 44,
   "id": "fab8cdfe",
   "metadata": {},
   "outputs": [
    {
     "data": {
      "text/plain": [
       "0"
      ]
     },
     "execution_count": 44,
     "metadata": {},
     "output_type": "execute_result"
    }
   ],
   "source": [
    "df['pcv'].fillna(df['pcv'].mean(), inplace=True)\n",
    "df['pcv'].isnull().sum()"
   ]
  },
  {
   "cell_type": "markdown",
   "id": "3f2f8c40",
   "metadata": {},
   "source": [
    "For \"wc\" datatype is 'object' then we have to convert it first and then we can change missing values."
   ]
  },
  {
   "cell_type": "code",
   "execution_count": 45,
   "id": "519e7d4a",
   "metadata": {},
   "outputs": [
    {
     "data": {
      "text/plain": [
       "dtype('O')"
      ]
     },
     "execution_count": 45,
     "metadata": {},
     "output_type": "execute_result"
    }
   ],
   "source": [
    "df['wc'].dtype"
   ]
  },
  {
   "cell_type": "code",
   "execution_count": 46,
   "id": "638b5f7e",
   "metadata": {},
   "outputs": [
    {
     "data": {
      "text/plain": [
       "dtype('float64')"
      ]
     },
     "execution_count": 46,
     "metadata": {},
     "output_type": "execute_result"
    }
   ],
   "source": [
    "df['wc'] = pd.to_numeric(df['wc'], errors='coerce')\n",
    "df['wc'].dtype"
   ]
  },
  {
   "cell_type": "code",
   "execution_count": 47,
   "id": "8512186e",
   "metadata": {},
   "outputs": [
    {
     "data": {
      "text/plain": [
       "count      294.000000\n",
       "mean      8406.122449\n",
       "std       2944.474190\n",
       "min       2200.000000\n",
       "25%       6500.000000\n",
       "50%       8000.000000\n",
       "75%       9800.000000\n",
       "max      26400.000000\n",
       "Name: wc, dtype: float64"
      ]
     },
     "execution_count": 47,
     "metadata": {},
     "output_type": "execute_result"
    }
   ],
   "source": [
    "df['wc'].describe()\n"
   ]
  },
  {
   "cell_type": "code",
   "execution_count": 48,
   "id": "de3bbef6",
   "metadata": {},
   "outputs": [
    {
     "data": {
      "text/plain": [
       "0"
      ]
     },
     "execution_count": 48,
     "metadata": {},
     "output_type": "execute_result"
    }
   ],
   "source": [
    "df['wc'].fillna(df['wc'].mean(), inplace=True)\n",
    "df['wc'].isnull().sum()"
   ]
  },
  {
   "cell_type": "markdown",
   "id": "e053c377",
   "metadata": {},
   "source": [
    "For \"RC\" datatype is 'object' then first change it to numeric and replace null values by mean of median"
   ]
  },
  {
   "cell_type": "code",
   "execution_count": 49,
   "id": "4e070fa6",
   "metadata": {},
   "outputs": [
    {
     "data": {
      "text/plain": [
       "dtype('O')"
      ]
     },
     "execution_count": 49,
     "metadata": {},
     "output_type": "execute_result"
    }
   ],
   "source": [
    "df['rc'].dtype\n"
   ]
  },
  {
   "cell_type": "code",
   "execution_count": 50,
   "id": "a73edae5",
   "metadata": {},
   "outputs": [
    {
     "data": {
      "text/plain": [
       "dtype('float64')"
      ]
     },
     "execution_count": 50,
     "metadata": {},
     "output_type": "execute_result"
    }
   ],
   "source": [
    "df['rc'] = pd.to_numeric(df['rc'], errors= 'coerce')\n",
    "df['rc'].dtype"
   ]
  },
  {
   "cell_type": "code",
   "execution_count": 51,
   "id": "3a72b557",
   "metadata": {},
   "outputs": [
    {
     "data": {
      "text/plain": [
       "count    269.000000\n",
       "mean       4.707435\n",
       "std        1.025323\n",
       "min        2.100000\n",
       "25%        3.900000\n",
       "50%        4.800000\n",
       "75%        5.400000\n",
       "max        8.000000\n",
       "Name: rc, dtype: float64"
      ]
     },
     "execution_count": 51,
     "metadata": {},
     "output_type": "execute_result"
    }
   ],
   "source": [
    "df['rc'].describe()\n"
   ]
  },
  {
   "cell_type": "code",
   "execution_count": 52,
   "id": "ae3cff88",
   "metadata": {},
   "outputs": [
    {
     "data": {
      "text/plain": [
       "0"
      ]
     },
     "execution_count": 52,
     "metadata": {},
     "output_type": "execute_result"
    }
   ],
   "source": [
    "df['rc'].fillna(df['rc'].mean(), inplace=True)\n",
    "df['rc'].isnull().sum()"
   ]
  },
  {
   "cell_type": "markdown",
   "id": "72a52f94",
   "metadata": {},
   "source": [
    "htn\n"
   ]
  },
  {
   "cell_type": "code",
   "execution_count": 53,
   "id": "6ebb0245",
   "metadata": {},
   "outputs": [
    {
     "data": {
      "text/plain": [
       "0"
      ]
     },
     "execution_count": 53,
     "metadata": {},
     "output_type": "execute_result"
    }
   ],
   "source": [
    "df['htn'].fillna(df['htn'].mode()[0] ,inplace=True)\n",
    "df['htn'].isnull().sum()"
   ]
  },
  {
   "cell_type": "markdown",
   "id": "f73117cd",
   "metadata": {},
   "source": [
    "Doing correnction in values of \"dm\""
   ]
  },
  {
   "cell_type": "code",
   "execution_count": 54,
   "id": "597a962e",
   "metadata": {},
   "outputs": [
    {
     "data": {
      "text/plain": [
       "no       258\n",
       "yes      134\n",
       "\\tno       3\n",
       "\\tyes      2\n",
       " yes       1\n",
       "Name: dm, dtype: int64"
      ]
     },
     "execution_count": 54,
     "metadata": {},
     "output_type": "execute_result"
    }
   ],
   "source": [
    "df['dm'].value_counts()\n"
   ]
  },
  {
   "cell_type": "code",
   "execution_count": 55,
   "id": "a2986776",
   "metadata": {},
   "outputs": [
    {
     "data": {
      "text/plain": [
       "no     261\n",
       "yes    137\n",
       "Name: dm, dtype: int64"
      ]
     },
     "execution_count": 55,
     "metadata": {},
     "output_type": "execute_result"
    }
   ],
   "source": [
    "df['dm'] = df['dm'].replace('\\tno' , 'no')\n",
    "df['dm'] = df['dm'].replace(['\\tyes',' yes'] , 'yes')\n",
    "\n",
    "df['dm'].value_counts()"
   ]
  },
  {
   "cell_type": "code",
   "execution_count": 56,
   "id": "393c6bb9",
   "metadata": {},
   "outputs": [
    {
     "data": {
      "text/plain": [
       "0"
      ]
     },
     "execution_count": 56,
     "metadata": {},
     "output_type": "execute_result"
    }
   ],
   "source": [
    "df['dm'].fillna(df['dm'].mode()[0], inplace=True)\n",
    "df['dm'].isnull().sum()"
   ]
  },
  {
   "cell_type": "markdown",
   "id": "789bd59c",
   "metadata": {},
   "source": [
    "column 'cad' we have to do corrections in values¶"
   ]
  },
  {
   "cell_type": "code",
   "execution_count": 57,
   "id": "becd2041",
   "metadata": {},
   "outputs": [
    {
     "data": {
      "text/plain": [
       "no      362\n",
       "yes      34\n",
       "\\tno      2\n",
       "Name: cad, dtype: int64"
      ]
     },
     "execution_count": 57,
     "metadata": {},
     "output_type": "execute_result"
    }
   ],
   "source": [
    "df['cad'].value_counts()"
   ]
  },
  {
   "cell_type": "code",
   "execution_count": 58,
   "id": "00a5bc7b",
   "metadata": {},
   "outputs": [
    {
     "data": {
      "text/plain": [
       "no     364\n",
       "yes     34\n",
       "Name: cad, dtype: int64"
      ]
     },
     "execution_count": 58,
     "metadata": {},
     "output_type": "execute_result"
    }
   ],
   "source": [
    "df['cad'] = df['cad'].replace('\\tno', 'no')\n",
    "df['cad'].value_counts()"
   ]
  },
  {
   "cell_type": "code",
   "execution_count": 59,
   "id": "31ba9331",
   "metadata": {},
   "outputs": [
    {
     "data": {
      "text/plain": [
       "0"
      ]
     },
     "execution_count": 59,
     "metadata": {},
     "output_type": "execute_result"
    }
   ],
   "source": [
    "df['cad'].fillna(df['cad'].mode()[0], inplace=True)\n",
    "df['cad'].isnull().sum()"
   ]
  },
  {
   "cell_type": "markdown",
   "id": "db79bd7d",
   "metadata": {},
   "source": [
    "#appet"
   ]
  },
  {
   "cell_type": "code",
   "execution_count": 60,
   "id": "3fd3a7ab",
   "metadata": {},
   "outputs": [
    {
     "data": {
      "text/plain": [
       "0"
      ]
     },
     "execution_count": 60,
     "metadata": {},
     "output_type": "execute_result"
    }
   ],
   "source": [
    "df['appet'].fillna(df['appet'].mode()[0], inplace=True)\n",
    "df['appet'].isnull().sum()"
   ]
  },
  {
   "cell_type": "markdown",
   "id": "79e41a22",
   "metadata": {},
   "source": [
    "#pe"
   ]
  },
  {
   "cell_type": "code",
   "execution_count": 61,
   "id": "9ead6ecf",
   "metadata": {},
   "outputs": [
    {
     "data": {
      "text/plain": [
       "0"
      ]
     },
     "execution_count": 61,
     "metadata": {},
     "output_type": "execute_result"
    }
   ],
   "source": [
    "df['pe'].fillna(df['pe'].mode()[0], inplace=True)\n",
    "df['pe'].isnull().sum()"
   ]
  },
  {
   "cell_type": "markdown",
   "id": "b6d8ab76",
   "metadata": {},
   "source": [
    "#ane"
   ]
  },
  {
   "cell_type": "code",
   "execution_count": 62,
   "id": "64a8e5ad",
   "metadata": {},
   "outputs": [
    {
     "data": {
      "text/plain": [
       "0"
      ]
     },
     "execution_count": 62,
     "metadata": {},
     "output_type": "execute_result"
    }
   ],
   "source": [
    "df['ane'].fillna(df['ane'].mode()[0], inplace=True)\n",
    "df['ane'].isnull().sum()"
   ]
  },
  {
   "cell_type": "markdown",
   "id": "5758a38c",
   "metadata": {},
   "source": [
    "# Final doing the preprocessing of classification"
   ]
  },
  {
   "cell_type": "code",
   "execution_count": 63,
   "id": "d3eec628",
   "metadata": {},
   "outputs": [
    {
     "data": {
      "text/plain": [
       "ckd       248\n",
       "notckd    150\n",
       "ckd\\t       2\n",
       "Name: classification, dtype: int64"
      ]
     },
     "execution_count": 63,
     "metadata": {},
     "output_type": "execute_result"
    }
   ],
   "source": [
    "df['classification'].value_counts()\n"
   ]
  },
  {
   "cell_type": "code",
   "execution_count": 64,
   "id": "2f5fd30a",
   "metadata": {},
   "outputs": [
    {
     "data": {
      "text/plain": [
       "ckd       250\n",
       "notckd    150\n",
       "Name: classification, dtype: int64"
      ]
     },
     "execution_count": 64,
     "metadata": {},
     "output_type": "execute_result"
    }
   ],
   "source": [
    "df['classification'] = df['classification'].replace('ckd\\t', 'ckd')\n",
    "df['classification'].value_counts()"
   ]
  },
  {
   "cell_type": "code",
   "execution_count": 65,
   "id": "d968b996",
   "metadata": {},
   "outputs": [
    {
     "data": {
      "text/plain": [
       "id                0\n",
       "age               0\n",
       "bp                0\n",
       "sg                0\n",
       "al                0\n",
       "su                0\n",
       "rbc               0\n",
       "pc                0\n",
       "pcc               0\n",
       "ba                0\n",
       "bgr               0\n",
       "bu                0\n",
       "sc                0\n",
       "sod               0\n",
       "pot               0\n",
       "hemo              0\n",
       "pcv               0\n",
       "wc                0\n",
       "rc                0\n",
       "htn               0\n",
       "dm                0\n",
       "cad               0\n",
       "appet             0\n",
       "pe                0\n",
       "ane               0\n",
       "classification    0\n",
       "dtype: int64"
      ]
     },
     "execution_count": 65,
     "metadata": {},
     "output_type": "execute_result"
    }
   ],
   "source": [
    "df.isnull().sum()\n"
   ]
  },
  {
   "cell_type": "code",
   "execution_count": 66,
   "id": "26ab5a07",
   "metadata": {},
   "outputs": [
    {
     "name": "stdout",
     "output_type": "stream",
     "text": [
      "<class 'pandas.core.frame.DataFrame'>\n",
      "RangeIndex: 400 entries, 0 to 399\n",
      "Data columns (total 26 columns):\n",
      " #   Column          Non-Null Count  Dtype  \n",
      "---  ------          --------------  -----  \n",
      " 0   id              400 non-null    int64  \n",
      " 1   age             400 non-null    float64\n",
      " 2   bp              400 non-null    float64\n",
      " 3   sg              400 non-null    float64\n",
      " 4   al              400 non-null    float64\n",
      " 5   su              400 non-null    float64\n",
      " 6   rbc             400 non-null    object \n",
      " 7   pc              400 non-null    object \n",
      " 8   pcc             400 non-null    object \n",
      " 9   ba              400 non-null    object \n",
      " 10  bgr             400 non-null    float64\n",
      " 11  bu              400 non-null    float64\n",
      " 12  sc              400 non-null    float64\n",
      " 13  sod             400 non-null    float64\n",
      " 14  pot             400 non-null    float64\n",
      " 15  hemo            400 non-null    float64\n",
      " 16  pcv             400 non-null    float64\n",
      " 17  wc              400 non-null    float64\n",
      " 18  rc              400 non-null    float64\n",
      " 19  htn             400 non-null    object \n",
      " 20  dm              400 non-null    object \n",
      " 21  cad             400 non-null    object \n",
      " 22  appet           400 non-null    object \n",
      " 23  pe              400 non-null    object \n",
      " 24  ane             400 non-null    object \n",
      " 25  classification  400 non-null    object \n",
      "dtypes: float64(14), int64(1), object(11)\n",
      "memory usage: 81.4+ KB\n"
     ]
    }
   ],
   "source": [
    "df.info()"
   ]
  },
  {
   "cell_type": "code",
   "execution_count": 67,
   "id": "507ee82e",
   "metadata": {},
   "outputs": [
    {
     "data": {
      "text/html": [
       "<div>\n",
       "<style scoped>\n",
       "    .dataframe tbody tr th:only-of-type {\n",
       "        vertical-align: middle;\n",
       "    }\n",
       "\n",
       "    .dataframe tbody tr th {\n",
       "        vertical-align: top;\n",
       "    }\n",
       "\n",
       "    .dataframe thead th {\n",
       "        text-align: right;\n",
       "    }\n",
       "</style>\n",
       "<table border=\"1\" class=\"dataframe\">\n",
       "  <thead>\n",
       "    <tr style=\"text-align: right;\">\n",
       "      <th></th>\n",
       "      <th>id</th>\n",
       "      <th>age</th>\n",
       "      <th>bp</th>\n",
       "      <th>sg</th>\n",
       "      <th>al</th>\n",
       "      <th>su</th>\n",
       "      <th>bgr</th>\n",
       "      <th>bu</th>\n",
       "      <th>sc</th>\n",
       "      <th>sod</th>\n",
       "      <th>pot</th>\n",
       "      <th>hemo</th>\n",
       "      <th>pcv</th>\n",
       "      <th>wc</th>\n",
       "      <th>rc</th>\n",
       "    </tr>\n",
       "  </thead>\n",
       "  <tbody>\n",
       "    <tr>\n",
       "      <th>count</th>\n",
       "      <td>400.000000</td>\n",
       "      <td>400.000000</td>\n",
       "      <td>400.000000</td>\n",
       "      <td>400.000000</td>\n",
       "      <td>400.00000</td>\n",
       "      <td>400.000000</td>\n",
       "      <td>400.000000</td>\n",
       "      <td>400.000000</td>\n",
       "      <td>400.000000</td>\n",
       "      <td>400.000000</td>\n",
       "      <td>400.000000</td>\n",
       "      <td>400.000000</td>\n",
       "      <td>400.000000</td>\n",
       "      <td>400.000000</td>\n",
       "      <td>400.000000</td>\n",
       "    </tr>\n",
       "    <tr>\n",
       "      <th>mean</th>\n",
       "      <td>199.500000</td>\n",
       "      <td>51.483376</td>\n",
       "      <td>76.575000</td>\n",
       "      <td>1.017408</td>\n",
       "      <td>0.90000</td>\n",
       "      <td>0.395000</td>\n",
       "      <td>145.062500</td>\n",
       "      <td>57.425722</td>\n",
       "      <td>3.072454</td>\n",
       "      <td>137.528754</td>\n",
       "      <td>4.627244</td>\n",
       "      <td>12.526437</td>\n",
       "      <td>38.884498</td>\n",
       "      <td>8406.122449</td>\n",
       "      <td>4.707435</td>\n",
       "    </tr>\n",
       "    <tr>\n",
       "      <th>std</th>\n",
       "      <td>115.614301</td>\n",
       "      <td>16.974966</td>\n",
       "      <td>13.489785</td>\n",
       "      <td>0.005369</td>\n",
       "      <td>1.31313</td>\n",
       "      <td>1.040038</td>\n",
       "      <td>75.260774</td>\n",
       "      <td>49.285887</td>\n",
       "      <td>5.617490</td>\n",
       "      <td>9.204273</td>\n",
       "      <td>2.819783</td>\n",
       "      <td>2.716171</td>\n",
       "      <td>8.151081</td>\n",
       "      <td>2523.219976</td>\n",
       "      <td>0.840314</td>\n",
       "    </tr>\n",
       "    <tr>\n",
       "      <th>min</th>\n",
       "      <td>0.000000</td>\n",
       "      <td>2.000000</td>\n",
       "      <td>50.000000</td>\n",
       "      <td>1.005000</td>\n",
       "      <td>0.00000</td>\n",
       "      <td>0.000000</td>\n",
       "      <td>22.000000</td>\n",
       "      <td>1.500000</td>\n",
       "      <td>0.400000</td>\n",
       "      <td>4.500000</td>\n",
       "      <td>2.500000</td>\n",
       "      <td>3.100000</td>\n",
       "      <td>9.000000</td>\n",
       "      <td>2200.000000</td>\n",
       "      <td>2.100000</td>\n",
       "    </tr>\n",
       "    <tr>\n",
       "      <th>25%</th>\n",
       "      <td>99.750000</td>\n",
       "      <td>42.000000</td>\n",
       "      <td>70.000000</td>\n",
       "      <td>1.015000</td>\n",
       "      <td>0.00000</td>\n",
       "      <td>0.000000</td>\n",
       "      <td>101.000000</td>\n",
       "      <td>27.000000</td>\n",
       "      <td>0.900000</td>\n",
       "      <td>135.000000</td>\n",
       "      <td>4.000000</td>\n",
       "      <td>10.875000</td>\n",
       "      <td>34.000000</td>\n",
       "      <td>6975.000000</td>\n",
       "      <td>4.500000</td>\n",
       "    </tr>\n",
       "    <tr>\n",
       "      <th>50%</th>\n",
       "      <td>199.500000</td>\n",
       "      <td>54.000000</td>\n",
       "      <td>80.000000</td>\n",
       "      <td>1.017408</td>\n",
       "      <td>0.00000</td>\n",
       "      <td>0.000000</td>\n",
       "      <td>121.000000</td>\n",
       "      <td>44.000000</td>\n",
       "      <td>1.400000</td>\n",
       "      <td>137.528754</td>\n",
       "      <td>4.627244</td>\n",
       "      <td>12.526437</td>\n",
       "      <td>38.884498</td>\n",
       "      <td>8406.122449</td>\n",
       "      <td>4.707435</td>\n",
       "    </tr>\n",
       "    <tr>\n",
       "      <th>75%</th>\n",
       "      <td>299.250000</td>\n",
       "      <td>64.000000</td>\n",
       "      <td>80.000000</td>\n",
       "      <td>1.020000</td>\n",
       "      <td>2.00000</td>\n",
       "      <td>0.000000</td>\n",
       "      <td>150.000000</td>\n",
       "      <td>61.750000</td>\n",
       "      <td>3.072454</td>\n",
       "      <td>141.000000</td>\n",
       "      <td>4.800000</td>\n",
       "      <td>14.625000</td>\n",
       "      <td>44.000000</td>\n",
       "      <td>9400.000000</td>\n",
       "      <td>5.100000</td>\n",
       "    </tr>\n",
       "    <tr>\n",
       "      <th>max</th>\n",
       "      <td>399.000000</td>\n",
       "      <td>90.000000</td>\n",
       "      <td>180.000000</td>\n",
       "      <td>1.025000</td>\n",
       "      <td>5.00000</td>\n",
       "      <td>5.000000</td>\n",
       "      <td>490.000000</td>\n",
       "      <td>391.000000</td>\n",
       "      <td>76.000000</td>\n",
       "      <td>163.000000</td>\n",
       "      <td>47.000000</td>\n",
       "      <td>17.800000</td>\n",
       "      <td>54.000000</td>\n",
       "      <td>26400.000000</td>\n",
       "      <td>8.000000</td>\n",
       "    </tr>\n",
       "  </tbody>\n",
       "</table>\n",
       "</div>"
      ],
      "text/plain": [
       "               id         age          bp          sg         al          su  \\\n",
       "count  400.000000  400.000000  400.000000  400.000000  400.00000  400.000000   \n",
       "mean   199.500000   51.483376   76.575000    1.017408    0.90000    0.395000   \n",
       "std    115.614301   16.974966   13.489785    0.005369    1.31313    1.040038   \n",
       "min      0.000000    2.000000   50.000000    1.005000    0.00000    0.000000   \n",
       "25%     99.750000   42.000000   70.000000    1.015000    0.00000    0.000000   \n",
       "50%    199.500000   54.000000   80.000000    1.017408    0.00000    0.000000   \n",
       "75%    299.250000   64.000000   80.000000    1.020000    2.00000    0.000000   \n",
       "max    399.000000   90.000000  180.000000    1.025000    5.00000    5.000000   \n",
       "\n",
       "              bgr          bu          sc         sod         pot        hemo  \\\n",
       "count  400.000000  400.000000  400.000000  400.000000  400.000000  400.000000   \n",
       "mean   145.062500   57.425722    3.072454  137.528754    4.627244   12.526437   \n",
       "std     75.260774   49.285887    5.617490    9.204273    2.819783    2.716171   \n",
       "min     22.000000    1.500000    0.400000    4.500000    2.500000    3.100000   \n",
       "25%    101.000000   27.000000    0.900000  135.000000    4.000000   10.875000   \n",
       "50%    121.000000   44.000000    1.400000  137.528754    4.627244   12.526437   \n",
       "75%    150.000000   61.750000    3.072454  141.000000    4.800000   14.625000   \n",
       "max    490.000000  391.000000   76.000000  163.000000   47.000000   17.800000   \n",
       "\n",
       "              pcv            wc          rc  \n",
       "count  400.000000    400.000000  400.000000  \n",
       "mean    38.884498   8406.122449    4.707435  \n",
       "std      8.151081   2523.219976    0.840314  \n",
       "min      9.000000   2200.000000    2.100000  \n",
       "25%     34.000000   6975.000000    4.500000  \n",
       "50%     38.884498   8406.122449    4.707435  \n",
       "75%     44.000000   9400.000000    5.100000  \n",
       "max     54.000000  26400.000000    8.000000  "
      ]
     },
     "execution_count": 67,
     "metadata": {},
     "output_type": "execute_result"
    }
   ],
   "source": [
    "df.describe()"
   ]
  },
  {
   "cell_type": "code",
   "execution_count": 68,
   "id": "b2e64514",
   "metadata": {},
   "outputs": [],
   "source": [
    "df.to_csv(\"kidney_cleaned.csv\")"
   ]
  },
  {
   "cell_type": "code",
   "execution_count": null,
   "id": "ed031536",
   "metadata": {},
   "outputs": [],
   "source": []
  }
 ],
 "metadata": {
  "kernelspec": {
   "display_name": "Python 3 (ipykernel)",
   "language": "python",
   "name": "python3"
  },
  "language_info": {
   "codemirror_mode": {
    "name": "ipython",
    "version": 3
   },
   "file_extension": ".py",
   "mimetype": "text/x-python",
   "name": "python",
   "nbconvert_exporter": "python",
   "pygments_lexer": "ipython3",
   "version": "3.10.9"
  }
 },
 "nbformat": 4,
 "nbformat_minor": 5
}
